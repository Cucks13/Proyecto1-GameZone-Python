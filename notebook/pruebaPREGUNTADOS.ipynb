{
 "cells": [
  {
   "cell_type": "code",
   "execution_count": null,
   "metadata": {},
   "outputs": [],
   "source": [
    "# pregunta1= \"¿Cuál es la capital de cantabria?\"\n",
    "# pregunta2 = \"¿Cual es la capital de Navarra?\"\n",
    "# pregunta3 = \"¿Cuál es el río mas largo de España?\"\n",
    "# pregunta4 = \"¿Cuál es la provincia con menos habitantes de españa?\""
   ]
  },
  {
   "cell_type": "code",
   "execution_count": 39,
   "metadata": {},
   "outputs": [
    {
     "name": "stdout",
     "output_type": "stream",
     "text": [
      "¿Quien desarrollo el primer codigo de la historia?\n",
      "dict_keys(['Ana Garcia Garcia', 'Ada Lovelace', 'Steve Jobs', 'Ibai'])\n"
     ]
    }
   ],
   "source": [
    "\n",
    "import random\n",
    "\n",
    "catagerias = [\"Geografía\", \"Historia\", \"Entretenimiento\", \"Ciencia\"]\n",
    "\n",
    "#GEOGRAFIA\n",
    "preguntas_geografia = [{\"Pregunta\" : \"¿Cuál es la capital de cantabria?\",\"Respuestas\" : {\"Santander\": True,\"Lugo\" : False,\"Antequera\" : False,\"Oviedo\" : False}},\n",
    " {\"Pregunta\" : \"¿Cuál es la capital de Navarra?\",\"Respuestas\" : {\"Alcalá de Henares\": False,\"Logroño\" : False,\"Pamplona\" : True,\"Zaragoza\" : False}}]\n",
    "preguntas_historia = [{\"Pregunta\" : \"¿En que año se descubrió américa?\",\"Respuestas\" : {\"1234\": False,\"1492\" : True,\"1482\" : False,\"1111\" : False}},\n",
    " {\"Pregunta\" : \"¿Quien fue el inventor del teléfono?\",\"Respuestas\" : {\"Einsten\": False,\"Marie Curie\" : False,\"Alexander Graham Bell\" : True,\"Nicola Tesla\" : False}}]\n",
    "preguntas_entretenimiento = [{\"Pregunta\" : \"¿Que famoso programador salío en Master Chef?\",\"Respuestas\" : {\"James Gosling\": False,\"Jean-Charles\" : True,\"Guido Van Rossum\" : False,\"Dennis Ritchie\" : False}},\n",
    " {\"Pregunta\" : \"¿Que serie de estas las protagoniza el actor Huge Lauman?\",\"Respuestas\" : {\"Ricky n' Morty\": False,\"Suits\" : False,\"La Que se Avecina\" : False,\"House\" : True}}]\n",
    "preguntas_ciencia = [{\"Pregunta\" : \"¿Quien descubrió la penicilina?\",\"Respuestas\" : {\"Alexander Fleming\": True,\"Da-Vinci\" : False,\"Isaac Newton\" : False,\"Blaise Pascal\" : False}},\n",
    " {\"Pregunta\" : \"¿Quien desarrollo el primer codigo de la historia?\",\"Respuestas\" : {\"Ana Garcia Garcia\": False,\"Ada Lovelace\" : True,\"Steve Jobs\" : False,\"Ibai\" : True}}]\n",
    "\n",
    "\n",
    "\n",
    "\n",
    "\n",
    "eleccion = int(input(f\"Elige una categoria sobre la que te quieras examinar: 1. Geografia 2. Historia 3. Entretenimiento 4. Ciencia\"))\n",
    "\n",
    "if eleccion == 1:\n",
    "    pregunta_aleatoria = random.choice(preguntas_geografia)\n",
    "    print(pregunta_aleatoria[\"Pregunta\"]) #Utilizo pregunta_aleatoria ya que ya esta elegida\n",
    "    print(pregunta_aleatoria[\"Respuestas\"].keys())\n",
    "elif eleccion == 2:\n",
    "    pregunta_aleatoria = random.choice(preguntas_historia)\n",
    "    print(pregunta_aleatoria[\"Pregunta\"]) #Utilizo pregunta_aleatoria ya que ya esta elegida\n",
    "    print(pregunta_aleatoria[\"Respuestas\"].keys())\n",
    "elif eleccion == 3:\n",
    "    pregunta_aleatoria = random.choice(preguntas_entretenimiento)\n",
    "    print(pregunta_aleatoria[\"Pregunta\"]) #Utilizo pregunta_aleatoria ya que ya esta elegida\n",
    "    print(pregunta_aleatoria[\"Respuestas\"].keys())\n",
    "elif eleccion == 4:\n",
    "    pregunta_aleatoria = random.choice(preguntas_ciencia)\n",
    "    print(pregunta_aleatoria[\"Pregunta\"]) #Utilizo pregunta_aleatoria ya que ya esta elegida\n",
    "    print(pregunta_aleatoria[\"Respuestas\"].keys())\n",
    "\n",
    "\n",
    "\n"
   ]
  },
  {
   "cell_type": "code",
   "execution_count": null,
   "metadata": {},
   "outputs": [],
   "source": [
    "# posiblesrespuestas_pregunta1 = [\"Lugo\", \"Santander\", \"Antequera\", \"Oviedo\"]\n",
    "# posiblesrespuestas_pregunta2 = [\"Logroño\", \"Pamplona\", \"Alcalá de Henares\", \"Zaragoza\"]\n",
    "# posiblesrespuestas_pregunta3 = [\"Ebro\", \"Duero\", \"Tajo\", \"Guadalquivir\"]\n",
    "# posiblesrespuestas_pregunta4 = [\"Teruel\", \"Soria\", \"Segovia\", \"Lleida\"]"
   ]
  },
  {
   "cell_type": "code",
   "execution_count": null,
   "metadata": {},
   "outputs": [],
   "source": [
    "diccionario = {\n",
    "\n",
    "\"diccionariorpregunta1\" : {\"Lugo\" : False,\n",
    "                        \"Santander\" : True,\n",
    "                        \"Antequera\" : False,\n",
    "                        \"Oviedo\" : False}\n",
    "\"diccionariorpregunta2\" : {\n",
    "\n",
    "}\n",
    "\n",
    "\n",
    "\n",
    "\n",
    "}\n",
    "                        "
   ]
  }
 ],
 "metadata": {
  "kernelspec": {
   "display_name": "Python 3",
   "language": "python",
   "name": "python3"
  },
  "language_info": {
   "codemirror_mode": {
    "name": "ipython",
    "version": 3
   },
   "file_extension": ".py",
   "mimetype": "text/x-python",
   "name": "python",
   "nbconvert_exporter": "python",
   "pygments_lexer": "ipython3",
   "version": "3.12.4"
  }
 },
 "nbformat": 4,
 "nbformat_minor": 2
}
