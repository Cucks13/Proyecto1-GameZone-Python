{
 "cells": [
  {
   "cell_type": "code",
   "execution_count": null,
   "metadata": {},
   "outputs": [],
   "source": []
  },
  {
   "cell_type": "code",
   "execution_count": 2,
   "metadata": {},
   "outputs": [
    {
     "name": "stdout",
     "output_type": "stream",
     "text": [
      "Me ganaste Jugador: LAGARTO, Máquina: SPOCK\n",
      "Marcador - Jugador: 1, Máquina: 0\n",
      "Me ganaste Jugador: LAGARTO, Máquina: SPOCK\n",
      "Marcador - Jugador: 2, Máquina: 0\n",
      "otra, otra Jugador: LAGARTO, Máquina: LAGARTO\n",
      "Marcador - Jugador: 2, Máquina: 0\n",
      "Te gané Jugador: LAGARTO, Máquina: PIEDRA\n",
      "Marcador - Jugador: 2, Máquina: 1\n",
      "Me ganaste Jugador: LAGARTO, Máquina: PAPEL\n",
      "Marcador - Jugador: 3, Máquina: 1\n",
      "¡Felicidades! Ganaste el juego.\n",
      "Gracias por jugar. ¡Hasta la próxima!\n"
     ]
    }
   ],
   "source": [
    "import random\n",
    "import time\n",
    "\n",
    "lista_opciones = [\"PIEDRA\", \"PAPEL\", \"TIJERA\", \"LAGARTO\", \"SPOCK\"]\n",
    "\n",
    "def jugar(jugador, maquina):\n",
    "    if jugador == maquina:\n",
    "        return \"Empate\"\n",
    "    elif (jugador == \"PIEDRA\" and (maquina == \"TIJERA\" or maquina == \"LAGARTO\")):\n",
    "        return \"Me ganaste\"\n",
    "    elif (jugador == \"PAPEL\" and (maquina == \"PIEDRA\" or maquina == \"SPOCK\")):\n",
    "        return \"Me ganaste\"\n",
    "    elif (jugador == \"TIJERA\" and (maquina == \"PAPEL\" or maquina == \"LAGARTO\")):\n",
    "        return \"Me ganaste\"\n",
    "    elif (jugador == \"LAGARTO\" and (maquina == \"SPOCK\" or maquina == \"PAPEL\")):\n",
    "        return \"Me ganaste\"\n",
    "    elif (jugador == \"SPOCK\" and (maquina == \"TIJERA\" or maquina == \"PIEDRA\")):\n",
    "        return \"Me ganaste\"\n",
    "    else:    \n",
    "        return \"Te gané\"\n",
    "    \n",
    "def obtener_opcion_jugador():\n",
    "    jugador = input(f\"Escribe la opción que quieras para competir {lista_opciones}: \").upper()\n",
    "    while jugador not in lista_opciones:\n",
    "        print(\"Opción inválida. Inténtalo de nuevo.\")\n",
    "        jugador = input(f\"Escribe la opción que quieras para competir {lista_opciones}: \").upper()\n",
    "    return jugador\n",
    "\n",
    "def iniciar_juego():\n",
    "    contador_jugador = 0\n",
    "    contador_maquina = 0\n",
    "\n",
    "    while contador_jugador < 3 and contador_maquina < 3:\n",
    "        # Obtener elección del jugador y la máquina\n",
    "        jugador = obtener_opcion_jugador()\n",
    "        maquina = random.choice(lista_opciones)\n",
    "\n",
    "        # Jugar una ronda\n",
    "        resultado = jugar(jugador, maquina)\n",
    "        if resultado == \"Me ganaste\":\n",
    "            contador_jugador += 1\n",
    "            print(f\"Me ganaste Jugador: {jugador}, Máquina: {maquina}\")\n",
    "        elif resultado == \"Te gané\":\n",
    "            contador_maquina += 1\n",
    "            print(f\"Te gané Jugador: {jugador}, Máquina: {maquina}\")\n",
    "        else:\n",
    "            print(f\"otra, otra Jugador: {jugador}, Máquina: {maquina}\")\n",
    "        \n",
    "        # Mostrar el marcador\n",
    "        print(f\"Marcador - Jugador: {contador_jugador}, Máquina: {contador_maquina}\")\n",
    "        \n",
    "        # Pausa de 1 segundo antes de la siguiente ronda\n",
    "        time.sleep(1)\n",
    "\n",
    "    # Declarar el ganador\n",
    "    if contador_jugador == 3:\n",
    "        print(\"¡Felicidades! Ganaste el juego.\")\n",
    "    else:\n",
    "        print(\"La máquina ganó el juego. Mejor suerte la próxima vez.\")\n",
    "\n",
    "while True:\n",
    "    iniciar_juego()\n",
    "    # Preguntar si el jugador quiere volver a jugar\n",
    "    jugar_otra_vez = input(\"¿Quieres jugar otra vez? (si/no): \").lower()\n",
    "    if jugar_otra_vez != \"si\":\n",
    "        print(\"Gracias por jugar. ¡Hasta la próxima!\")\n",
    "        break\n"
   ]
  }
 ],
 "metadata": {
  "kernelspec": {
   "display_name": "Python 3",
   "language": "python",
   "name": "python3"
  },
  "language_info": {
   "codemirror_mode": {
    "name": "ipython",
    "version": 3
   },
   "file_extension": ".py",
   "mimetype": "text/x-python",
   "name": "python",
   "nbconvert_exporter": "python",
   "pygments_lexer": "ipython3",
   "version": "3.12.4"
  }
 },
 "nbformat": 4,
 "nbformat_minor": 2
}
