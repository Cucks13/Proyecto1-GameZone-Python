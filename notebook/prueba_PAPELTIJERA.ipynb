{
 "cells": [
  {
   "cell_type": "code",
   "execution_count": 23,
   "metadata": {},
   "outputs": [],
   "source": [
    "import random\n",
    "import time\n",
    "\n",
    "lista_opciones = [\"PIEDRA\", \"PAPEL\", \"TIJERA\", \"LAGARTO\", \"SPOCK\"]\n",
    "\n",
    "def jugar(jugador, maquina):\n",
    "    if jugador == maquina:\n",
    "        return \"otra, otra\"\n",
    "    elif (jugador == \"PIEDRA\" and (maquina == \"TIJERA\" or maquina == \"LAGARTO\")) or \\\n",
    "         (jugador == \"PAPEL\" and (maquina == \"PIEDRA\" or maquina == \"SPOCK\")) or \\\n",
    "         (jugador == \"TIJERA\" and (maquina == \"PAPEL\" or maquina == \"LAGARTO\")) or \\\n",
    "         (jugador == \"LAGARTO\" and (maquina == \"SPOCK\" or maquina == \"PAPEL\")) or \\\n",
    "         (jugador == \"SPOCK\" and (maquina == \"TIJERA\" or maquina == \"PIEDRA\")):\n",
    "        return \"Me ganaste\"\n",
    "    else:\n",
    "        return \"Te gané\"\n",
    "    \n",
    "def obtener_opcion_jugador():\n",
    "    jugador = input(f\"Escribe la opción que quieras para competir {lista_opciones}: \").upper()\n",
    "    while jugador not in lista_opciones:\n",
    "        print(\"Opción inválida. Inténtalo de nuevo.\")\n",
    "        jugador = input(f\"Escribe la opción que quieras para competir {lista_opciones}: \").upper()\n",
    "    return jugador\n",
    "\n",
    "def iniciar_juego():\n",
    "    contador_jugador = 0\n",
    "    contador_maquina = 0\n",
    "\n",
    "    while contador_jugador < 3 and contador_maquina < 3:\n",
    "        # Obtener elección del jugador y la máquina\n",
    "        jugador = obtener_opcion_jugador()\n",
    "        maquina = random.choice(lista_opciones)\n",
    "\n",
    "        # Jugar una ronda\n",
    "        resultado = jugar(jugador, maquina)\n",
    "        if resultado == \"Jugador\":\n",
    "            contador_jugador += 1\n",
    "            print(f\"Ganaste esta ronda! Jugador: {jugador}, Máquina: {maquina}\")\n",
    "        elif resultado == \"Máquina\":\n",
    "            contador_maquina += 1\n",
    "            print(f\"La máquina ganó esta ronda! Jugador: {jugador}, Máquina: {maquina}\")\n",
    "        else:\n",
    "            print(f\"Empate! Jugador: {jugador}, Máquina: {maquina}\")\n",
    "        \n",
    "        # Mostrar el marcador\n",
    "        print(f\"Marcador - Jugador: {contador_jugador}, Máquina: {contador_maquina}\")\n",
    "        \n",
    "        # Pausa de 1 segundo antes de la siguiente ronda\n",
    "        time.sleep(1)\n",
    "\n",
    "    # Declarar el ganador\n",
    "    if contador_jugador == 3:\n",
    "        print(\"¡Felicidades! Ganaste el juego.\")\n",
    "    else:\n",
    "        print(\"La máquina ganó el juego. Mejor suerte la próxima vez.\")\n"
   ]
  },
  {
   "cell_type": "code",
   "execution_count": 1,
   "metadata": {},
   "outputs": [
    {
     "name": "stdout",
     "output_type": "stream",
     "text": [
      "Opción inválida. Inténtalo de nuevo.\n",
      "Opción inválida. Inténtalo de nuevo.\n",
      "Opción inválida. Inténtalo de nuevo.\n",
      "Opción inválida. Inténtalo de nuevo.\n"
     ]
    }
   ],
   "source": [
    "# main.py\n",
    "import src.support_piedrapapel as ppt\n",
    "import src.support_preguntados as preg\n",
    "\n",
    "def mostrar_menu():\n",
    "    print(\"\\n===== Menú Principal =====\")\n",
    "    print(\"1. Jugar Piedra, Papel, Tijera, Lagarto, Spock\")\n",
    "    print(\"2. Jugar Preguntados\")\n",
    "    print(\"3. Jugar Tres en Raya\")\n",
    "    print(\"4. Jugar Ahorcado\")\n",
    "    print(\"5. Salir\")\n",
    "\n",
    "def main():\n",
    "    while True:\n",
    "        mostrar_menu()\n",
    "        opcion = input(\"Elige una opción: \")\n",
    "\n",
    "        if opcion == \"1\":\n",
    "            print(\"\\nHas elegido jugar Piedra, Papel, Tijera, Lagarto, Spock\")\n",
    "            ppt.iniciar_juego()  \n",
    "        elif opcion == \"2\":\n",
    "            print(\"\\nHas elegido jugar Preguntados\")\n",
    "            preg.ABCD()  \n",
    "        elif opcion == \"3\":\n",
    "            print(\"\\nHas elegido jugar Tres en Raya (aún no implementado)\")\n",
    "        elif opcion == \"4\":\n",
    "            print(\"\\nHas elegido jugar Ahorcado (aún no implementado)\")\n",
    "        elif opcion == \"5\":\n",
    "            print(\"Saliendo del juego. ¡Hasta la próxima!\")\n",
    "            break\n",
    "        else:\n",
    "            print(\"Opción no válida. Por favor, intenta de nuevo.\")"
   ]
  }
 ],
 "metadata": {
  "kernelspec": {
   "display_name": "Python 3",
   "language": "python",
   "name": "python3"
  },
  "language_info": {
   "codemirror_mode": {
    "name": "ipython",
    "version": 3
   },
   "file_extension": ".py",
   "mimetype": "text/x-python",
   "name": "python",
   "nbconvert_exporter": "python",
   "pygments_lexer": "ipython3",
   "version": "3.12.4"
  }
 },
 "nbformat": 4,
 "nbformat_minor": 2
}
